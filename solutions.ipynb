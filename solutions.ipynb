{
 "cells": [
  {
   "cell_type": "markdown",
   "metadata": {},
   "source": [
    "# Advent of code 2021\n",
    "\n",
    "My first time entering Advent of Code. I'm pretty rusty in Python at the moment, so I have shameless copied the utility functions from Peter Norvieg's [2020 solutions](https://github.com/norvig/pytudes/blob/main/ipynb/Advent-2020.ipynb) so that my attempts will at least start off in a well structured fashion.\n",
    "\n",
    "Only entering to complete, not to get a fast time."
   ]
  },
  {
   "cell_type": "code",
   "execution_count": 88,
   "metadata": {},
   "outputs": [],
   "source": [
    "from __future__  import annotations\n",
    "from collections import Counter, defaultdict, namedtuple, deque\n",
    "from itertools   import permutations, combinations, product, chain, tee\n",
    "from functools   import lru_cache\n",
    "from typing      import Dict, Tuple, Set, List, Iterator, Optional, Union, NamedTuple\n",
    "\n",
    "import operator\n",
    "import math\n",
    "import ast\n",
    "import sys\n",
    "import re"
   ]
  },
  {
   "cell_type": "markdown",
   "metadata": {},
   "source": [
    "Peter Norveigs utilities:"
   ]
  },
  {
   "cell_type": "code",
   "execution_count": 89,
   "metadata": {},
   "outputs": [],
   "source": [
    "def data(day: int, parser=str, sep='\\n') -> list:\n",
    "    \"Split the day's input file into sections separated by `sep`, and apply `parser` to each.\"\n",
    "    sections = open(f'data/input{day}.txt').read().rstrip().split(sep)\n",
    "    return [parser(section) for section in sections]\n",
    "     \n",
    "def do(day, *answers) -> Dict[int, int]:\n",
    "    \"E.g., do(3) returns {1: day3_1(in3), 2: day3_2(in3)}. Verifies `answers` if given.\"\n",
    "    g = globals()\n",
    "    got = []\n",
    "    for part in (1, 2):\n",
    "        fname = f'day{day}_{part}'\n",
    "        if fname in g: \n",
    "            got.append(g[fname](g[f'in{day}']))\n",
    "            if len(answers) >= part: \n",
    "                assert got[-1] == answers[part - 1], (\n",
    "                    f'{fname}(in{day}) got {got[-1]}; expected {answers[part - 1]}')\n",
    "    return got\n",
    "\n",
    "def atoms(text: str, ignore=r'', sep=None) -> Tuple[Union[int, str]]:\n",
    "    \"Parse text into atoms (numbers or strs), possibly ignoring a regex.\"\n",
    "    if ignore:\n",
    "        text = re.sub(ignore, '', text)\n",
    "    return tuple(map(atom, text.split(sep)))\n",
    "\n",
    "def atom(text: str) -> Union[float, int, str]:\n",
    "    \"Parse text into a single float or int or str.\"\n",
    "    try:\n",
    "        val = float(text)\n",
    "        return round(val) if round(val) == val else val\n",
    "    except ValueError:\n",
    "        return text"
   ]
  },
  {
   "cell_type": "markdown",
   "metadata": {},
   "source": [
    "My utilities"
   ]
  },
  {
   "cell_type": "code",
   "execution_count": 90,
   "metadata": {},
   "outputs": [],
   "source": [
    "def pairwise(iterable): # Defined in itertools in python 3.10 but I'm in 3.9\n",
    "    \"pairwise('ABCDEFG') --> AB BC CD DE EF FG\"\n",
    "    a, b = tee(iterable)\n",
    "    next(b, None)\n",
    "    return zip(a, b)"
   ]
  },
  {
   "cell_type": "markdown",
   "metadata": {},
   "source": [
    "### Day 1: Sonar Sweep\n",
    "Part 1 is to compute the number of times we see an increase between elements. Itertools has a helpful _pairwise_ function that allows comparison between two adjacent elements in a list without making a full copy. Part 2 is to compute a sliding window first.. so I 'adapted' the _pairwise_ function to allow a 3-element sliding window but it's not nicely generalised to different window lengths."
   ]
  },
  {
   "cell_type": "code",
   "execution_count": 91,
   "metadata": {},
   "outputs": [],
   "source": [
    "in1: List[int] = data(1, int)"
   ]
  },
  {
   "cell_type": "code",
   "execution_count": 92,
   "metadata": {},
   "outputs": [],
   "source": [
    "def day1_1(nums):\n",
    "    return sum(second > first for first,second in pairwise(nums))"
   ]
  },
  {
   "cell_type": "code",
   "execution_count": 93,
   "metadata": {},
   "outputs": [],
   "source": [
    "def day1_2(nums):\n",
    "    \"Niave extension of itertools.pairwise\"\n",
    "    a, b, c = tee(nums, 3)\n",
    "    next(b, None)\n",
    "    next(c, None)\n",
    "    next(c, None)\n",
    "    moving_average = [x+y+z for x, y, z in zip(a, b, c)]\n",
    "    return day1_1(moving_average)"
   ]
  },
  {
   "cell_type": "code",
   "execution_count": 94,
   "metadata": {},
   "outputs": [],
   "source": [
    "assert day1_1([199, 200, 208, 210, 200, 207, 240, 269, 260, 263]) == 7\n",
    "assert day1_2([199, 200, 208, 210, 200, 207, 240, 269, 260, 263]) == 5"
   ]
  },
  {
   "cell_type": "code",
   "execution_count": 95,
   "metadata": {},
   "outputs": [
    {
     "data": {
      "text/plain": [
       "[1832, 1858]"
      ]
     },
     "execution_count": 95,
     "metadata": {},
     "output_type": "execute_result"
    }
   ],
   "source": [
    "do(1, 1832, 1858)"
   ]
  },
  {
   "cell_type": "markdown",
   "metadata": {},
   "source": [
    "### Day 2: Dive!\n",
    "\n",
    "For part 1 we don't need to worry about the order of the commands (assuming that we don't need to verify that the depth is always sensible). Brute fore approach for part 2."
   ]
  },
  {
   "cell_type": "code",
   "execution_count": 96,
   "metadata": {},
   "outputs": [],
   "source": [
    "Instruction = Tuple[str, int] # e.g. ('up', 1)\n",
    "Program = List[Instruction]\n",
    "\n",
    "in2: Program = data(2, atoms)"
   ]
  },
  {
   "cell_type": "code",
   "execution_count": 97,
   "metadata": {},
   "outputs": [],
   "source": [
    "def sum_direction(program, direction):\n",
    "    return sum(x[1] for x in filter(lambda x: x[0]==direction, program))\n",
    "\n",
    "assert sum_direction([('down',2),('forward',7),('down',1)],\"down\") == 3\n",
    "\n",
    "def day2_1(program):\n",
    "    \"Assumes that the input is valid and we don't have to worry about the submarine trying to go above the waterline\"\n",
    "    horizontal_position = sum_direction(program,\"forward\")\n",
    "    depth = sum_direction(program,\"down\") - sum_direction(program,\"up\")\n",
    "    return depth * horizontal_position"
   ]
  },
  {
   "cell_type": "code",
   "execution_count": 98,
   "metadata": {},
   "outputs": [],
   "source": [
    "def day2_2(program):\n",
    "    aim, depth, horizontal_position = 0, 0, 0\n",
    "    for command, v in program:\n",
    "        if command == \"down\":\n",
    "            aim += v\n",
    "        elif command == \"up\":\n",
    "            aim -= v\n",
    "        elif command == \"forward\":\n",
    "            depth += aim * v\n",
    "            horizontal_position += v\n",
    "        else:\n",
    "            raise Exception('Unexpected command %s',command)\n",
    "    return depth * horizontal_position"
   ]
  },
  {
   "cell_type": "code",
   "execution_count": 99,
   "metadata": {},
   "outputs": [
    {
     "data": {
      "text/plain": [
       "[1484118, 1463827010]"
      ]
     },
     "execution_count": 99,
     "metadata": {},
     "output_type": "execute_result"
    }
   ],
   "source": [
    "do(2, 1484118, 1463827010)"
   ]
  },
  {
   "cell_type": "markdown",
   "metadata": {},
   "source": [
    "### Day 3: Binary Diagnostic\n",
    "Full brute force today. For part I I'm sure there must be a better way to unpack the most common element from a _Counter_ and to use the two's complement operator to compute epsilon. In part II, there must be a better way to find the most common element with a default.\n",
    "\n",
    "I might revisit  these at a later date."
   ]
  },
  {
   "cell_type": "code",
   "execution_count": 100,
   "metadata": {},
   "outputs": [],
   "source": [
    "in3: List(int) = data(3, str)"
   ]
  },
  {
   "cell_type": "code",
   "execution_count": 101,
   "metadata": {},
   "outputs": [],
   "source": [
    "def day3_1(nums):\n",
    "    nums = [list(x) for x in nums]\n",
    "    nums = list(map(list, zip(*nums)))\n",
    "    counters = [Counter(x) for x in nums]\n",
    "    gamma = \"\".join(str(x.most_common(1)[0][0]) for x in counters)\n",
    "    epsilon = \"\".join(str(x.most_common()[-1][0]) for x in counters)\n",
    "    return int(gamma,base=2) * int(epsilon, base=2)\n",
    "\n",
    "def get_rating(nums, mode):\n",
    "    ix = 0\n",
    "    while len(nums) > 1 and ix < len(nums[0]):\n",
    "        counter = Counter(x[ix] for x in nums)\n",
    "        v = counter.most_common(1)[0] if mode==\"most\" else counter.most_common()[-1]\n",
    "        if v[1]*2 == len(nums):\n",
    "            v = '1' if mode==\"most\" else '0'\n",
    "        else:\n",
    "            v = v[0]\n",
    "        nums = list(filter(lambda x: x[ix] == v,nums))\n",
    "        ix += 1\n",
    "    return nums[0]\n",
    "\n",
    "def day3_2(nums):\n",
    "    oxygen = get_rating(nums,mode=\"most\")\n",
    "    co2 = get_rating(nums,mode=\"least\")\n",
    "    return int(oxygen,base=2) * int(co2,base=2)"
   ]
  },
  {
   "cell_type": "code",
   "execution_count": 102,
   "metadata": {},
   "outputs": [
    {
     "data": {
      "text/plain": [
       "[2724524, 2775870]"
      ]
     },
     "execution_count": 102,
     "metadata": {},
     "output_type": "execute_result"
    }
   ],
   "source": [
    "do(3, 2724524, 2775870)"
   ]
  },
  {
   "cell_type": "markdown",
   "metadata": {},
   "source": [
    "### Day 4: Giant Squid\n",
    "I implemented a BingoBoard class on my first attempt here, but decided this was unnecessary when I revisited it. I think my runtime complexity is _O(NDB^2)_ for N boards, B elements per board and D draws because of the _is_bingo_ function, but the input is not that big."
   ]
  },
  {
   "cell_type": "code",
   "execution_count": 103,
   "metadata": {},
   "outputs": [],
   "source": [
    "def parse_bingo_boards(line: str) -> List[int]:\n",
    "    return list(map(int,re.split(\"\\W+\",line.strip())))\n",
    "\n",
    "in4: List[int] = data(4, parse_bingo_boards, sep='\\n\\n')"
   ]
  },
  {
   "cell_type": "code",
   "execution_count": 104,
   "metadata": {},
   "outputs": [],
   "source": [
    "def is_bingo(hits, width = 5):\n",
    "    out = any(all(hits[i:i+width]) for i in range(0,len(hits),width)) # check for complete rows\n",
    "    if not out:\n",
    "        out = any(all(hits[i:len(hits):width]) for i in range(width)) # check for complete columns\n",
    "    return out\n",
    "\n",
    "def score_bingo_board(board, draws):\n",
    "    hits = [False for x in range(len(board))]\n",
    "    bingo = False\n",
    "    for i, draw in enumerate(draws):\n",
    "        if draw in board:\n",
    "            hits[board.index(draw)] = True\n",
    "            bingo = is_bingo(hits)\n",
    "            if bingo: break\n",
    "    if bingo:\n",
    "        return (i, draw * sum(x for x, h in zip(board,hits) if not h))\n",
    "    else:\n",
    "        return (math.inf, None)"
   ]
  },
  {
   "cell_type": "code",
   "execution_count": 105,
   "metadata": {},
   "outputs": [],
   "source": [
    "def day4_1(boards):\n",
    "    scores = [score_bingo_board(x, boards[0]) for x in boards[1:]]\n",
    "    out = min(scores, key = lambda x: x[0])\n",
    "    return out[1]\n",
    "\n",
    "def day4_2(boards):\n",
    "    scores = [score_bingo_board(x, boards[0]) for x in boards[1:]]\n",
    "    scores = filter(lambda x: math.isfinite(x[0]), scores)\n",
    "    out = max(scores, key = lambda x: x[0])\n",
    "    return out[1]"
   ]
  },
  {
   "cell_type": "code",
   "execution_count": 106,
   "metadata": {},
   "outputs": [
    {
     "data": {
      "text/plain": [
       "[49860, 24628]"
      ]
     },
     "execution_count": 106,
     "metadata": {},
     "output_type": "execute_result"
    }
   ],
   "source": [
    "do(4, 49860, 24628)"
   ]
  },
  {
   "cell_type": "markdown",
   "metadata": {},
   "source": [
    "### Day 5: Hydrothermal Venture\n",
    "Part I is to count the number of overlapping points given a set of horizontal / vertical line segments. Pythons _Counter_ again was quite useful to count the number of overlaps. Part II just required an extension to _parse\\_line\\_segments_ to deal with diagonal lines."
   ]
  },
  {
   "cell_type": "code",
   "execution_count": 107,
   "metadata": {},
   "outputs": [],
   "source": [
    "def parse_line_segments(line: str) -> Tuple[int, int, int, int]:  \n",
    "    a,b,c,d = map(int,re.findall(r'[^->,\\s]+',line))\n",
    "    assert a == c or b == d or (abs(a-c) == abs(b-d)), \"Lines must be at 0, 45, 90 degrees\"\n",
    "    return (a,b,c,d)\n",
    "\n",
    "in5: Tuple[int, int, int, int] = data(5, parse_line_segments)"
   ]
  },
  {
   "cell_type": "code",
   "execution_count": 108,
   "metadata": {},
   "outputs": [],
   "source": [
    "def is_diagonal(segment):\n",
    "    a,b,c,d = segment\n",
    "    return (abs(a-c) == abs(b-d)) and not (a == c or b == d)\n",
    "\n",
    "def expand_segment(segment):\n",
    "    a,b,c,d = segment\n",
    "    if a == c:\n",
    "        x1, x2 = min(b,d), max(b, d)\n",
    "        return [(a,x) for x in range(x1,x2+1)]\n",
    "    elif b == d:\n",
    "        x1, x2 = min(a,c), max(a, c)\n",
    "        return [(x,b) for x in range(x1,x2+1)]\n",
    "    else:\n",
    "        signX = 1 if c > a else -1\n",
    "        signY = 1 if d > b else -1\n",
    "        return [(a+signX*i,b+signY*i) for i in range(abs(a-c)+1)]"
   ]
  },
  {
   "cell_type": "code",
   "execution_count": 109,
   "metadata": {},
   "outputs": [],
   "source": [
    "def day5_1(segments):\n",
    "    counter = Counter()\n",
    "    for segment in segments:\n",
    "        if not is_diagonal(segment):\n",
    "            counter.update(expand_segment(segment))\n",
    "    return sum(counter[x]>1 for x in counter)\n",
    "\n",
    "def day5_2(segments):\n",
    "    counter = Counter()\n",
    "    for segment in segments:\n",
    "        counter.update(expand_segment(segment))\n",
    "    return sum(counter[x]>1 for x in counter)"
   ]
  },
  {
   "cell_type": "code",
   "execution_count": 110,
   "metadata": {},
   "outputs": [
    {
     "data": {
      "text/plain": [
       "[5167, 17604]"
      ]
     },
     "execution_count": 110,
     "metadata": {},
     "output_type": "execute_result"
    }
   ],
   "source": [
    "do(5, 5167, 17604)"
   ]
  },
  {
   "cell_type": "markdown",
   "metadata": {},
   "source": [
    "### Day 6: Lanternfish\n",
    "A question about modelling the population size of some fish, given that they reproduce every 6 days (or 8 if they are new), which lends itself nicely to recursion and the _lru\\_cache_. The grid of cached values should be only 8 * 256 for part II."
   ]
  },
  {
   "cell_type": "code",
   "execution_count": 111,
   "metadata": {},
   "outputs": [],
   "source": [
    "in6: List[int] = data(6,int,sep=\",\")"
   ]
  },
  {
   "cell_type": "code",
   "execution_count": 112,
   "metadata": {},
   "outputs": [],
   "source": [
    "@lru_cache\n",
    "def population_size(fish_timer, days):\n",
    "    step = min(days, fish_timer+1)\n",
    "    if days == 0:\n",
    "        out = 1\n",
    "    elif days >= fish_timer+1:\n",
    "        out = population_size(6, days - fish_timer - 1) + population_size(8, days - fish_timer - 1)\n",
    "    else:\n",
    "        out = population_size(fish_timer - days, 0)\n",
    "    return out\n",
    "\n",
    "assert population_size(3,3) == 1\n",
    "assert population_size(3,4) == 2\n",
    "assert population_size(3,10) == 2\n",
    "assert population_size(3,11) == 3\n",
    "assert population_size(3,13) == 4"
   ]
  },
  {
   "cell_type": "code",
   "execution_count": 113,
   "metadata": {},
   "outputs": [],
   "source": [
    "def day6_1(fish_timers): return sum(population_size(x,80) for x in fish_timers)\n",
    "\n",
    "def day6_2(fish_timers): return sum(population_size(x,256) for x in fish_timers)"
   ]
  },
  {
   "cell_type": "code",
   "execution_count": 114,
   "metadata": {},
   "outputs": [
    {
     "data": {
      "text/plain": [
       "[386755, 1732731810807]"
      ]
     },
     "execution_count": 114,
     "metadata": {},
     "output_type": "execute_result"
    }
   ],
   "source": [
    "do(6, 386755, 1732731810807)"
   ]
  },
  {
   "cell_type": "markdown",
   "metadata": {},
   "source": [
    "### Day 7: The Treachery of Whales\n",
    "Part I is to compute _min\\_p \\sum\\_i abs(x\\_i - p)_ and part II is to compute _min\\_p \\sum\\_i abs(x\\_i - p) * (abs(x\\_i - p)+1)/2_ for a vector _x_ of initial positions. There is probably a clever way to solve these minimization problems, however the input is not that big so I opted for the brute force approach."
   ]
  },
  {
   "cell_type": "code",
   "execution_count": 115,
   "metadata": {},
   "outputs": [],
   "source": [
    "in7: List[int] = data(7,int,sep=\",\")"
   ]
  },
  {
   "cell_type": "code",
   "execution_count": 116,
   "metadata": {},
   "outputs": [],
   "source": [
    "def day7_1(positions):\n",
    "    fuel = math.inf\n",
    "    for p in range(min(positions),max(positions)+1):\n",
    "        v = sum(abs(x-p) for x in positions)\n",
    "        fuel = min(v,fuel)\n",
    "    return fuel\n",
    "\n",
    "def day7_2(positions):\n",
    "    fuel = math.inf\n",
    "    for p in range(min(positions),max(positions)+1):\n",
    "        v = sum((abs(x-p)*(abs(x-p)+1))//2 for x in positions)\n",
    "        fuel = min(v,fuel)\n",
    "    return fuel"
   ]
  },
  {
   "cell_type": "code",
   "execution_count": 117,
   "metadata": {},
   "outputs": [
    {
     "data": {
      "text/plain": [
       "[351901, 101079875]"
      ]
     },
     "execution_count": 117,
     "metadata": {},
     "output_type": "execute_result"
    }
   ],
   "source": [
    "do(7, 351901, 101079875)"
   ]
  },
  {
   "cell_type": "markdown",
   "metadata": {},
   "source": [
    "### Day 8: Seven segment search\n",
    "Labels for a 7 segment display are scrambled, and the task is to decode 4 numbers given an encoded list of numbers 0-9. Part I is relatively straight forward as you are only asked to decode numbers with a unique number of bars. For Part II I ended up with a reasonably verbose tree of if-statements to complete my 'decoder'. "
   ]
  },
  {
   "cell_type": "code",
   "execution_count": 118,
   "metadata": {},
   "outputs": [],
   "source": [
    "Display = NamedTuple(\"Display\", [('pattern', List[frozenset]), ('output', List[frozenset])])\n",
    "\n",
    "def parse_digits(line: str) -> Display:\n",
    "    line = line.split(\"|\")\n",
    "    return Display([frozenset(x) for x in re.findall(r'[^\\s]+',line[0])],[frozenset(x) for x in re.findall(r'[^\\s]+',line[1])])\n",
    "\n",
    "in8: List[Display] = data(8, parse_digits)"
   ]
  },
  {
   "cell_type": "code",
   "execution_count": 119,
   "metadata": {},
   "outputs": [],
   "source": [
    "def day8_1(displays: List[Display]) -> int:\n",
    "    counter = Counter()\n",
    "    for display in displays:\n",
    "        counter.update(map(len,display.output))\n",
    "    return sum(counter[x] for x in [2,4,3,7])"
   ]
  },
  {
   "cell_type": "code",
   "execution_count": 120,
   "metadata": {},
   "outputs": [],
   "source": [
    "def decode_display(display: Display) -> int:\n",
    "    lens = {2:1,7:8,4:4,3:7}\n",
    "    encoder = dict()\n",
    "    for x in display.pattern:\n",
    "        if len(x) in lens:\n",
    "            encoder[lens[len(x)]] = x\n",
    "    for x in display.pattern:\n",
    "        if len(x) in lens:\n",
    "            continue\n",
    "        elif len(x) == 6 and encoder[4].issubset(x):\n",
    "            encoder[9] = x\n",
    "        elif len(x) == 6 and not encoder[1].issubset(x):\n",
    "            encoder[6] = x\n",
    "        elif len(x) == 6:\n",
    "            encoder[0] = x\n",
    "        elif len(x) == 5 and encoder[7].issubset(x):\n",
    "            encoder[3] = x\n",
    "        elif len(x) == 5 and len(x.intersection(encoder[4])) == 3:\n",
    "            encoder[5] = x\n",
    "        else:\n",
    "            encoder[2] = x\n",
    "    decoder = {v:k for k,v in encoder.items()}\n",
    "    assert all(x in decoder for x in display.pattern)\n",
    "    return int(\"\".join([str(decoder[x]) for x in display.output]))\n",
    "\n",
    "\n",
    "def day8_2(displays: List[Display]) -> int:\n",
    "    return sum(map(decode_display, displays))\n"
   ]
  },
  {
   "cell_type": "code",
   "execution_count": 121,
   "metadata": {},
   "outputs": [
    {
     "data": {
      "text/plain": [
       "[387, 986034]"
      ]
     },
     "execution_count": 121,
     "metadata": {},
     "output_type": "execute_result"
    }
   ],
   "source": [
    "do(8, 387, 986034)"
   ]
  }
 ],
 "metadata": {
  "interpreter": {
   "hash": "aee8b7b246df8f9039afb4144a1f6fd8d2ca17a180786b69acc140d282b71a49"
  },
  "kernelspec": {
   "display_name": "Python 3.9.7 64-bit",
   "language": "python",
   "name": "python3"
  },
  "language_info": {
   "codemirror_mode": {
    "name": "ipython",
    "version": 3
   },
   "file_extension": ".py",
   "mimetype": "text/x-python",
   "name": "python",
   "nbconvert_exporter": "python",
   "pygments_lexer": "ipython3",
   "version": "3.9.7"
  },
  "orig_nbformat": 4
 },
 "nbformat": 4,
 "nbformat_minor": 2
}
