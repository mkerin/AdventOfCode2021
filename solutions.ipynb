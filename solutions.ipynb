{
 "cells": [
  {
   "cell_type": "markdown",
   "metadata": {},
   "source": [
    "# Advent of code 2021\n",
    "\n",
    "My first time entering Advent of Code. I'm pretty rusty in Python at the moment, so I have shameless copied the utility functions from Peter Norvieg's [2020 solutions](https://github.com/norvig/pytudes/blob/main/ipynb/Advent-2020.ipynb) so that my attempts will at least start off in a well structured fashion.\n",
    "\n",
    "Only entering to complete, not to get a fast time."
   ]
  },
  {
   "cell_type": "code",
   "execution_count": 160,
   "metadata": {},
   "outputs": [],
   "source": [
    "from __future__  import annotations\n",
    "from collections import Counter, defaultdict, namedtuple, deque\n",
    "from itertools   import permutations, combinations, product, chain, tee\n",
    "from functools   import lru_cache\n",
    "from typing      import Dict, Tuple, Set, List, Iterator, Optional, Union\n",
    "\n",
    "import operator\n",
    "import math\n",
    "import ast\n",
    "import sys\n",
    "import re"
   ]
  },
  {
   "cell_type": "markdown",
   "metadata": {},
   "source": [
    "Peter Norveigs utilities:"
   ]
  },
  {
   "cell_type": "code",
   "execution_count": 161,
   "metadata": {},
   "outputs": [],
   "source": [
    "def data(day: int, parser=str, sep='\\n') -> list:\n",
    "    \"Split the day's input file into sections separated by `sep`, and apply `parser` to each.\"\n",
    "    sections = open(f'data/input{day}.txt').read().rstrip().split(sep)\n",
    "    return [parser(section) for section in sections]\n",
    "     \n",
    "def do(day, *answers) -> Dict[int, int]:\n",
    "    \"E.g., do(3) returns {1: day3_1(in3), 2: day3_2(in3)}. Verifies `answers` if given.\"\n",
    "    g = globals()\n",
    "    got = []\n",
    "    for part in (1, 2):\n",
    "        fname = f'day{day}_{part}'\n",
    "        if fname in g: \n",
    "            got.append(g[fname](g[f'in{day}']))\n",
    "            if len(answers) >= part: \n",
    "                assert got[-1] == answers[part - 1], (\n",
    "                    f'{fname}(in{day}) got {got[-1]}; expected {answers[part - 1]}')\n",
    "    return got\n",
    "\n",
    "def atoms(text: str, ignore=r'', sep=None) -> Tuple[Union[int, str]]:\n",
    "    \"Parse text into atoms (numbers or strs), possibly ignoring a regex.\"\n",
    "    if ignore:\n",
    "        text = re.sub(ignore, '', text)\n",
    "    return tuple(map(atom, text.split(sep)))\n",
    "\n",
    "def atom(text: str) -> Union[float, int, str]:\n",
    "    \"Parse text into a single float or int or str.\"\n",
    "    try:\n",
    "        val = float(text)\n",
    "        return round(val) if round(val) == val else val\n",
    "    except ValueError:\n",
    "        return text"
   ]
  },
  {
   "cell_type": "markdown",
   "metadata": {},
   "source": [
    "My utilities"
   ]
  },
  {
   "cell_type": "code",
   "execution_count": 162,
   "metadata": {},
   "outputs": [],
   "source": [
    "def pairwise(iterable): # Defined in itertools in python 3.10 but I'm in 3.9\n",
    "    \"pairwise('ABCDEFG') --> AB BC CD DE EF FG\"\n",
    "    a, b = tee(iterable)\n",
    "    next(b, None)\n",
    "    return zip(a, b)"
   ]
  },
  {
   "cell_type": "markdown",
   "metadata": {},
   "source": [
    "### Day 1\n",
    "Part 1 is to compute the number of times we see an increase between elements. Itertools has a helpful _pairwise_ function that allows comparison between two adjacent elements in a list without making a full copy. Part 2 is to compute a sliding window first.. so I 'adapted' the _pairwise_ function to allow a 3-element sliding window but it's not nicely generalised to different window lengths."
   ]
  },
  {
   "cell_type": "code",
   "execution_count": 163,
   "metadata": {},
   "outputs": [],
   "source": [
    "in1: List[int] = data(1, int)"
   ]
  },
  {
   "cell_type": "code",
   "execution_count": 164,
   "metadata": {},
   "outputs": [],
   "source": [
    "def day1_1(nums):\n",
    "    return sum(second > first for first,second in pairwise(nums))"
   ]
  },
  {
   "cell_type": "code",
   "execution_count": 165,
   "metadata": {},
   "outputs": [],
   "source": [
    "def day1_2(nums):\n",
    "    \"Niave extension of itertools.pairwise\"\n",
    "    a, b, c = tee(nums, 3)\n",
    "    next(b, None)\n",
    "    next(c, None)\n",
    "    next(c, None)\n",
    "    moving_average = [x+y+z for x, y, z in zip(a, b, c)]\n",
    "    return day1_1(moving_average)"
   ]
  },
  {
   "cell_type": "code",
   "execution_count": 166,
   "metadata": {},
   "outputs": [],
   "source": [
    "assert day1_1([199, 200, 208, 210, 200, 207, 240, 269, 260, 263]) == 7\n",
    "assert day1_2([199, 200, 208, 210, 200, 207, 240, 269, 260, 263]) == 5"
   ]
  },
  {
   "cell_type": "code",
   "execution_count": 167,
   "metadata": {},
   "outputs": [
    {
     "data": {
      "text/plain": [
       "[1832, 1858]"
      ]
     },
     "execution_count": 167,
     "metadata": {},
     "output_type": "execute_result"
    }
   ],
   "source": [
    "do(1, 1832, 1858)"
   ]
  },
  {
   "cell_type": "markdown",
   "metadata": {},
   "source": [
    "### Day 2\n",
    "\n",
    "For part 1 we don't need to worry about the order of the commands (assuming that we don't need to verify that the depth is always sensible). Brute fore approach for part 2."
   ]
  },
  {
   "cell_type": "code",
   "execution_count": 168,
   "metadata": {},
   "outputs": [],
   "source": [
    "Instruction = Tuple[str, int] # e.g. ('up', 1)\n",
    "Program = List[Instruction]\n",
    "\n",
    "in2: Program = data(2, atoms)"
   ]
  },
  {
   "cell_type": "code",
   "execution_count": 169,
   "metadata": {},
   "outputs": [],
   "source": [
    "def sum_direction(program, direction):\n",
    "    return sum(x[1] for x in filter(lambda x: x[0]==direction, program))\n",
    "\n",
    "assert sum_direction([('down',2),('forward',7),('down',1)],\"down\") == 3\n",
    "\n",
    "def day2_1(program):\n",
    "    \"Assumes that the input is valid and we don't have to worry about the submarine trying to go above the waterline\"\n",
    "    horizontal_position = sum_direction(program,\"forward\")\n",
    "    depth = sum_direction(program,\"down\") - sum_direction(program,\"up\")\n",
    "    return depth * horizontal_position"
   ]
  },
  {
   "cell_type": "code",
   "execution_count": 170,
   "metadata": {},
   "outputs": [],
   "source": [
    "def day2_2(program):\n",
    "    aim, depth, horizontal_position = 0, 0, 0\n",
    "    for command, v in program:\n",
    "        if command == \"down\":\n",
    "            aim += v\n",
    "        elif command == \"up\":\n",
    "            aim -= v\n",
    "        elif command == \"forward\":\n",
    "            depth += aim * v\n",
    "            horizontal_position += v\n",
    "        else:\n",
    "            raise Exception('Unexpected command %s',command)\n",
    "    return depth * horizontal_position"
   ]
  },
  {
   "cell_type": "code",
   "execution_count": 171,
   "metadata": {},
   "outputs": [
    {
     "data": {
      "text/plain": [
       "[1484118, 1463827010]"
      ]
     },
     "execution_count": 171,
     "metadata": {},
     "output_type": "execute_result"
    }
   ],
   "source": [
    "do(2, 1484118, 1463827010)"
   ]
  }
 ],
 "metadata": {
  "interpreter": {
   "hash": "aee8b7b246df8f9039afb4144a1f6fd8d2ca17a180786b69acc140d282b71a49"
  },
  "kernelspec": {
   "display_name": "Python 3.9.7 64-bit",
   "language": "python",
   "name": "python3"
  },
  "language_info": {
   "codemirror_mode": {
    "name": "ipython",
    "version": 3
   },
   "file_extension": ".py",
   "mimetype": "text/x-python",
   "name": "python",
   "nbconvert_exporter": "python",
   "pygments_lexer": "ipython3",
   "version": "3.9.7"
  },
  "orig_nbformat": 4
 },
 "nbformat": 4,
 "nbformat_minor": 2
}
