{
 "cells": [
  {
   "cell_type": "markdown",
   "metadata": {},
   "source": [
    "# Advent of code 2021\n",
    "\n",
    "My first time entering Advent of Code. I'm pretty rusty in Python at the moment, so I have shameless copied the utility functions from Peter Norvieg's [2020 solutions](https://github.com/norvig/pytudes/blob/main/ipynb/Advent-2020.ipynb) so that my attempts will at least start off in a well structured fashion.\n",
    "\n",
    "Only entering to complete, not to get a fast time."
   ]
  },
  {
   "cell_type": "code",
   "execution_count": 3,
   "metadata": {},
   "outputs": [],
   "source": [
    "from __future__  import annotations\n",
    "from collections import Counter, defaultdict, namedtuple, deque\n",
    "from itertools   import permutations, combinations, product, chain, tee\n",
    "from functools   import lru_cache\n",
    "from typing      import Dict, Tuple, Set, List, Iterator, Optional, Union\n",
    "\n",
    "import operator\n",
    "import math\n",
    "import ast\n",
    "import sys\n",
    "import re"
   ]
  },
  {
   "cell_type": "markdown",
   "metadata": {},
   "source": [
    "Peter Norveigs utilities:"
   ]
  },
  {
   "cell_type": "code",
   "execution_count": 4,
   "metadata": {},
   "outputs": [],
   "source": [
    "def data(day: int, parser=str, sep='\\n') -> list:\n",
    "    \"Split the day's input file into sections separated by `sep`, and apply `parser` to each.\"\n",
    "    sections = open(f'data/input{day}.txt').read().rstrip().split(sep)\n",
    "    return [parser(section) for section in sections]\n",
    "     \n",
    "def do(day, *answers) -> Dict[int, int]:\n",
    "    \"E.g., do(3) returns {1: day3_1(in3), 2: day3_2(in3)}. Verifies `answers` if given.\"\n",
    "    g = globals()\n",
    "    got = []\n",
    "    for part in (1, 2):\n",
    "        fname = f'day{day}_{part}'\n",
    "        if fname in g: \n",
    "            got.append(g[fname](g[f'in{day}']))\n",
    "            if len(answers) >= part: \n",
    "                assert got[-1] == answers[part - 1], (\n",
    "                    f'{fname}(in{day}) got {got[-1]}; expected {answers[part - 1]}')\n",
    "    return got\n",
    "\n",
    "def atoms(text: str, ignore=r'', sep=None) -> Tuple[Union[int, str]]:\n",
    "    \"Parse text into atoms (numbers or strs), possibly ignoring a regex.\"\n",
    "    if ignore:\n",
    "        text = re.sub(ignore, '', text)\n",
    "    return tuple(map(atom, text.split(sep)))\n",
    "\n",
    "def atom(text: str) -> Union[float, int, str]:\n",
    "    \"Parse text into a single float or int or str.\"\n",
    "    try:\n",
    "        val = float(text)\n",
    "        return round(val) if round(val) == val else val\n",
    "    except ValueError:\n",
    "        return text"
   ]
  },
  {
   "cell_type": "markdown",
   "metadata": {},
   "source": [
    "My utilities"
   ]
  },
  {
   "cell_type": "code",
   "execution_count": 5,
   "metadata": {},
   "outputs": [],
   "source": [
    "def pairwise(iterable): # Defined in itertools in python 3.10 but I'm in 3.9\n",
    "    \"pairwise('ABCDEFG') --> AB BC CD DE EF FG\"\n",
    "    a, b = tee(iterable)\n",
    "    next(b, None)\n",
    "    return zip(a, b)"
   ]
  },
  {
   "cell_type": "markdown",
   "metadata": {},
   "source": [
    "### Day 1\n",
    "Part 1 is to compute the number of times we see an increase between elements. Itertools has a helpful _pairwise_ function that allows comparison between two adjacent elements in a list without making a full copy. Part 2 is to compute a sliding window first.. so I 'adapted' the _pairwise_ function to allow a 3-element sliding window but it's not nicely generalised to different window lengths."
   ]
  },
  {
   "cell_type": "code",
   "execution_count": 6,
   "metadata": {},
   "outputs": [],
   "source": [
    "in1: List[int] = data(1, int)"
   ]
  },
  {
   "cell_type": "code",
   "execution_count": 7,
   "metadata": {},
   "outputs": [],
   "source": [
    "def day1_1(nums):\n",
    "    return sum(second > first for first,second in pairwise(nums))"
   ]
  },
  {
   "cell_type": "code",
   "execution_count": 8,
   "metadata": {},
   "outputs": [],
   "source": [
    "def day1_2(nums):\n",
    "    \"Niave extension of itertools.pairwise\"\n",
    "    a, b, c = tee(nums, 3)\n",
    "    next(b, None)\n",
    "    next(c, None)\n",
    "    next(c, None)\n",
    "    moving_average = [x+y+z for x, y, z in zip(a, b, c)]\n",
    "    return day1_1(moving_average)"
   ]
  },
  {
   "cell_type": "code",
   "execution_count": 9,
   "metadata": {},
   "outputs": [],
   "source": [
    "assert day1_1([199, 200, 208, 210, 200, 207, 240, 269, 260, 263]) == 7\n",
    "assert day1_2([199, 200, 208, 210, 200, 207, 240, 269, 260, 263]) == 5"
   ]
  },
  {
   "cell_type": "code",
   "execution_count": 10,
   "metadata": {},
   "outputs": [
    {
     "data": {
      "text/plain": [
       "[1832, 1858]"
      ]
     },
     "execution_count": 10,
     "metadata": {},
     "output_type": "execute_result"
    }
   ],
   "source": [
    "do(1, 1832, 1858)"
   ]
  },
  {
   "cell_type": "markdown",
   "metadata": {},
   "source": [
    "### Day 2\n",
    "\n",
    "For part 1 we don't need to worry about the order of the commands (assuming that we don't need to verify that the depth is always sensible). Brute fore approach for part 2."
   ]
  },
  {
   "cell_type": "code",
   "execution_count": 11,
   "metadata": {},
   "outputs": [],
   "source": [
    "Instruction = Tuple[str, int] # e.g. ('up', 1)\n",
    "Program = List[Instruction]\n",
    "\n",
    "in2: Program = data(2, atoms)"
   ]
  },
  {
   "cell_type": "code",
   "execution_count": 12,
   "metadata": {},
   "outputs": [],
   "source": [
    "def sum_direction(program, direction):\n",
    "    return sum(x[1] for x in filter(lambda x: x[0]==direction, program))\n",
    "\n",
    "assert sum_direction([('down',2),('forward',7),('down',1)],\"down\") == 3\n",
    "\n",
    "def day2_1(program):\n",
    "    \"Assumes that the input is valid and we don't have to worry about the submarine trying to go above the waterline\"\n",
    "    horizontal_position = sum_direction(program,\"forward\")\n",
    "    depth = sum_direction(program,\"down\") - sum_direction(program,\"up\")\n",
    "    return depth * horizontal_position"
   ]
  },
  {
   "cell_type": "code",
   "execution_count": 13,
   "metadata": {},
   "outputs": [],
   "source": [
    "def day2_2(program):\n",
    "    aim, depth, horizontal_position = 0, 0, 0\n",
    "    for command, v in program:\n",
    "        if command == \"down\":\n",
    "            aim += v\n",
    "        elif command == \"up\":\n",
    "            aim -= v\n",
    "        elif command == \"forward\":\n",
    "            depth += aim * v\n",
    "            horizontal_position += v\n",
    "        else:\n",
    "            raise Exception('Unexpected command %s',command)\n",
    "    return depth * horizontal_position"
   ]
  },
  {
   "cell_type": "code",
   "execution_count": 14,
   "metadata": {},
   "outputs": [
    {
     "data": {
      "text/plain": [
       "[1484118, 1463827010]"
      ]
     },
     "execution_count": 14,
     "metadata": {},
     "output_type": "execute_result"
    }
   ],
   "source": [
    "do(2, 1484118, 1463827010)"
   ]
  },
  {
   "cell_type": "markdown",
   "metadata": {},
   "source": [
    "### Day 3\n",
    "Full brute force today. For part I I'm sure there must be a better way to unpack the most common element from a _Counter_ and to use the two's complement operator to compute epsilon. In part II, there must be a better way to find the most common element with a default.\n",
    "\n",
    "I might revisit  these at a later date."
   ]
  },
  {
   "cell_type": "code",
   "execution_count": 15,
   "metadata": {},
   "outputs": [],
   "source": [
    "in3: List(int) = data(3, str)"
   ]
  },
  {
   "cell_type": "code",
   "execution_count": 16,
   "metadata": {},
   "outputs": [],
   "source": [
    "def day3_1(nums):\n",
    "    nums = [list(x) for x in nums]\n",
    "    nums = list(map(list, zip(*nums)))\n",
    "    counters = [Counter(x) for x in nums]\n",
    "    gamma = \"\".join(str(x.most_common(1)[0][0]) for x in counters)\n",
    "    epsilon = \"\".join(str(x.most_common()[-1][0]) for x in counters)\n",
    "    return int(gamma,base=2) * int(epsilon, base=2)\n",
    "\n",
    "def get_rating(nums, mode):\n",
    "    ix = 0\n",
    "    while len(nums) > 1 and ix < len(nums[0]):\n",
    "        counter = Counter(x[ix] for x in nums)\n",
    "        v = counter.most_common(1)[0] if mode==\"most\" else counter.most_common()[-1]\n",
    "        if v[1]*2 == len(nums):\n",
    "            v = '1' if mode==\"most\" else '0'\n",
    "        else:\n",
    "            v = v[0]\n",
    "        nums = list(filter(lambda x: x[ix] == v,nums))\n",
    "        ix += 1\n",
    "    return nums[0]\n",
    "\n",
    "def day3_2(nums):\n",
    "    oxygen = get_rating(nums,mode=\"most\")\n",
    "    co2 = get_rating(nums,mode=\"least\")\n",
    "    return int(oxygen,base=2) * int(co2,base=2)"
   ]
  },
  {
   "cell_type": "code",
   "execution_count": 17,
   "metadata": {},
   "outputs": [
    {
     "data": {
      "text/plain": [
       "[2724524, 2775870]"
      ]
     },
     "execution_count": 17,
     "metadata": {},
     "output_type": "execute_result"
    }
   ],
   "source": [
    "do(3, 2724524, 2775870)"
   ]
  },
  {
   "cell_type": "markdown",
   "metadata": {},
   "source": [
    "### Day 4\n",
    "I implemented a BingoBoard class on my first attempt here, but decided this was unnecessary when I revisited it. I think my runtime complexity is _O(NDB^2)_ for N boards, B elements per board and D draws because of the _is_bingo_ function, but the input is not that big."
   ]
  },
  {
   "cell_type": "code",
   "execution_count": 44,
   "metadata": {},
   "outputs": [],
   "source": [
    "def parse_bingo_boards(line: str) -> List[int]:\n",
    "    return list(map(int,re.split(\"\\W+\",line.strip())))\n",
    "\n",
    "in4: List[int] = data(4, parse_bingo_boards, sep='\\n\\n')"
   ]
  },
  {
   "cell_type": "code",
   "execution_count": 37,
   "metadata": {},
   "outputs": [],
   "source": [
    "def is_bingo(hits, width = 5):\n",
    "    out = any(all(hits[i:i+width]) for i in range(0,len(hits),width)) # check for complete rows\n",
    "    if not out:\n",
    "        out = any(all(hits[i:len(hits):width]) for i in range(width)) # check for complete columns\n",
    "    return out\n",
    "\n",
    "def score_bingo_board(board, draws):\n",
    "    hits = [False for x in range(len(board))]\n",
    "    bingo = False\n",
    "    for i, draw in enumerate(draws):\n",
    "        if draw in board:\n",
    "            hits[board.index(draw)] = True\n",
    "            bingo = is_bingo(hits)\n",
    "            if bingo: break\n",
    "    if bingo:\n",
    "        return (i, draw * sum(x for x, h in zip(board,hits) if not h))\n",
    "    else:\n",
    "        return (math.inf, None)"
   ]
  },
  {
   "cell_type": "code",
   "execution_count": 47,
   "metadata": {},
   "outputs": [],
   "source": [
    "def day4_1(boards):\n",
    "    scores = [score_bingo_board(x, boards[0]) for x in boards[1:]]\n",
    "    out = min(scores, key = lambda x: x[0])\n",
    "    return out[1]\n",
    "\n",
    "def day4_2(boards):\n",
    "    scores = [score_bingo_board(x, boards[0]) for x in boards[1:]]\n",
    "    scores = filter(lambda x: math.isfinite(x[0]), scores)\n",
    "    out = max(scores, key = lambda x: x[0])\n",
    "    return out[1]"
   ]
  },
  {
   "cell_type": "code",
   "execution_count": 48,
   "metadata": {},
   "outputs": [
    {
     "data": {
      "text/plain": [
       "[49860, 24628]"
      ]
     },
     "execution_count": 48,
     "metadata": {},
     "output_type": "execute_result"
    }
   ],
   "source": [
    "do(4, 49860, 24628)"
   ]
  }
 ],
 "metadata": {
  "interpreter": {
   "hash": "aee8b7b246df8f9039afb4144a1f6fd8d2ca17a180786b69acc140d282b71a49"
  },
  "kernelspec": {
   "display_name": "Python 3.9.7 64-bit",
   "language": "python",
   "name": "python3"
  },
  "language_info": {
   "codemirror_mode": {
    "name": "ipython",
    "version": 3
   },
   "file_extension": ".py",
   "mimetype": "text/x-python",
   "name": "python",
   "nbconvert_exporter": "python",
   "pygments_lexer": "ipython3",
   "version": "3.9.7"
  },
  "orig_nbformat": 4
 },
 "nbformat": 4,
 "nbformat_minor": 2
}
